{
  "nbformat": 4,
  "nbformat_minor": 0,
  "metadata": {
    "colab": {
      "name": "Tuesday.ipynb",
      "private_outputs": true,
      "provenance": [],
      "collapsed_sections": []
    },
    "kernelspec": {
      "name": "python3",
      "display_name": "Python 3"
    },
    "language_info": {
      "name": "python"
    }
  },
  "cells": [
    {
      "cell_type": "code",
      "metadata": {
        "id": "dZ26sz2XjYfm"
      },
      "source": [
        "from google.colab import drive\n",
        "drive.mount('/content/drive')"
      ],
      "execution_count": null,
      "outputs": []
    },
    {
      "cell_type": "code",
      "metadata": {
        "id": "n-qcsMx8lkSc"
      },
      "source": [
        "path = '/content/drive/My Drive/dsn2021/'"
      ],
      "execution_count": null,
      "outputs": []
    },
    {
      "cell_type": "code",
      "metadata": {
        "id": "m3D0UOwomAMm"
      },
      "source": [
        "import pandas as pd\n",
        "import numpy as np\n",
        "import datetime\n",
        "\n",
        "from sklearn.model_selection import GridSearchCV, RandomizedSearchCV\n",
        "from sklearn.model_selection import StratifiedKFold\n",
        "\n",
        "from sklearn.preprocessing import StandardScaler\n",
        "from sklearn.preprocessing import LabelEncoder\n",
        "\n",
        "from sklearn.ensemble import RandomForestClassifier\n",
        "\n",
        "from sklearn.model_selection import GridSearchCV, RandomizedSearchCV\n",
        "from sklearn.model_selection import StratifiedKFold"
      ],
      "execution_count": null,
      "outputs": []
    },
    {
      "cell_type": "markdown",
      "metadata": {
        "id": "LSb-_ku262gb"
      },
      "source": [
        "# **TRAIN PREPROCESSING**"
      ]
    },
    {
      "cell_type": "code",
      "metadata": {
        "id": "y5KuFJn1nAg3"
      },
      "source": [
        "train = pd.read_csv(path + '/dataset/Train.csv')"
      ],
      "execution_count": null,
      "outputs": []
    },
    {
      "cell_type": "code",
      "metadata": {
        "id": "4jaw0RLamNcY"
      },
      "source": [
        "display(train.head())"
      ],
      "execution_count": null,
      "outputs": []
    },
    {
      "cell_type": "code",
      "metadata": {
        "id": "pgjvnbNYn8kY"
      },
      "source": [
        "target = train['Response']"
      ],
      "execution_count": null,
      "outputs": []
    },
    {
      "cell_type": "code",
      "metadata": {
        "id": "Z_gpYi-MdWS6"
      },
      "source": [
        "target.value_counts()"
      ],
      "execution_count": null,
      "outputs": []
    },
    {
      "cell_type": "code",
      "metadata": {
        "id": "IQ1g1ykFoISv"
      },
      "source": [
        "train.drop('Response', axis = 1, inplace = True)"
      ],
      "execution_count": null,
      "outputs": []
    },
    {
      "cell_type": "code",
      "metadata": {
        "id": "MCxoXQc-o777"
      },
      "source": [
        "train.drop('ID', axis = 1, inplace = True)\n",
        "train.shape"
      ],
      "execution_count": null,
      "outputs": []
    },
    {
      "cell_type": "code",
      "metadata": {
        "id": "z91mwi7PE7oP"
      },
      "source": [
        "train['Date_Customer'] = pd.to_datetime(train['Date_Customer'])"
      ],
      "execution_count": null,
      "outputs": []
    },
    {
      "cell_type": "code",
      "metadata": {
        "id": "muCURtUjGzwV"
      },
      "source": [
        "train['Date_Customer'] = (datetime.datetime.now() - train['Date_Customer']).dt.days"
      ],
      "execution_count": null,
      "outputs": []
    },
    {
      "cell_type": "code",
      "metadata": {
        "id": "oZdsAW0GF3qo"
      },
      "source": [
        "train['Year_of_Birth'] = pd.to_datetime(train['Year_of_Birth'], format = '%Y')"
      ],
      "execution_count": null,
      "outputs": []
    },
    {
      "cell_type": "code",
      "metadata": {
        "id": "NlB2RVK_F3n4"
      },
      "source": [
        "train['Year_of_Birth'] = datetime.datetime.now().year - train['Year_of_Birth'].dt.year"
      ],
      "execution_count": null,
      "outputs": []
    },
    {
      "cell_type": "code",
      "metadata": {
        "id": "ORrBFkXjq0F-"
      },
      "source": [
        "target.value_counts().plot(kind='bar')"
      ],
      "execution_count": null,
      "outputs": []
    },
    {
      "cell_type": "code",
      "metadata": {
        "id": "Tn7KpNlGq7F1"
      },
      "source": [
        "train['Disposable_Income'].fillna(np.median(train['Disposable_Income']), inplace = True)"
      ],
      "execution_count": null,
      "outputs": []
    },
    {
      "cell_type": "code",
      "metadata": {
        "id": "zt_vGZkgrQGf"
      },
      "source": [
        "edu_dict = {'Basic' : 1,\n",
        "            '2n Cycle' : 2,\n",
        "            'Graduation' : 3,\n",
        "            'Master' : 4,\n",
        "            'PhD': 5\n",
        "            }\n",
        "train['Education_Level'] = train['Education_Level'].replace(edu_dict)"
      ],
      "execution_count": null,
      "outputs": []
    },
    {
      "cell_type": "code",
      "metadata": {
        "id": "8TUAyNvgsNB6"
      },
      "source": [
        "encoder = LabelEncoder()\n",
        "\n",
        "train['Marital_Status'] = encoder.fit_transform(train['Marital_Status'])"
      ],
      "execution_count": null,
      "outputs": []
    },
    {
      "cell_type": "code",
      "metadata": {
        "id": "KWKFsDDo3Ldd"
      },
      "source": [
        "train.dtypes"
      ],
      "execution_count": null,
      "outputs": []
    },
    {
      "cell_type": "markdown",
      "metadata": {
        "id": "7niz-BC-6wuG"
      },
      "source": [
        "# **TEST PREPROCESSING**"
      ]
    },
    {
      "cell_type": "code",
      "metadata": {
        "id": "iD7EfF6x6Fbt"
      },
      "source": [
        "test = pd.read_csv(path + '/dataset/Test.csv')"
      ],
      "execution_count": null,
      "outputs": []
    },
    {
      "cell_type": "code",
      "metadata": {
        "id": "M90qYe_l6FW2"
      },
      "source": [
        "ID = test['ID']"
      ],
      "execution_count": null,
      "outputs": []
    },
    {
      "cell_type": "code",
      "metadata": {
        "id": "-MaeyoGh6RVO"
      },
      "source": [
        "test['Date_Customer'] = pd.to_datetime(test['Date_Customer'])"
      ],
      "execution_count": null,
      "outputs": []
    },
    {
      "cell_type": "code",
      "metadata": {
        "id": "VQDtpPuT6RQ5"
      },
      "source": [
        "test['Date_Customer'] = (datetime.datetime.now() - test['Date_Customer']).dt.days"
      ],
      "execution_count": null,
      "outputs": []
    },
    {
      "cell_type": "code",
      "metadata": {
        "id": "eZjx4_k56ROA"
      },
      "source": [
        "test['Year_of_Birth'] = pd.to_datetime(test['Year_of_Birth'], format = '%Y')"
      ],
      "execution_count": null,
      "outputs": []
    },
    {
      "cell_type": "code",
      "metadata": {
        "id": "ChPcoWJ86FNk"
      },
      "source": [
        "test['Year_of_Birth'] = datetime.datetime.now().year - test['Year_of_Birth'].dt.year"
      ],
      "execution_count": null,
      "outputs": []
    },
    {
      "cell_type": "code",
      "metadata": {
        "id": "Z7w1eHrJ6E7x"
      },
      "source": [
        "test['Disposable_Income'].fillna(np.median(train['Disposable_Income']) , inplace = True)"
      ],
      "execution_count": null,
      "outputs": []
    },
    {
      "cell_type": "code",
      "metadata": {
        "id": "aJ7y_Nto6e4P"
      },
      "source": [
        "test['Education_Level'] = test['Education_Level'].replace(edu_dict)"
      ],
      "execution_count": null,
      "outputs": []
    },
    {
      "cell_type": "code",
      "metadata": {
        "id": "T0CIOUfI6e0f"
      },
      "source": [
        "test['Marital_Status'] = encoder.transform(test['Marital_Status'])"
      ],
      "execution_count": null,
      "outputs": []
    },
    {
      "cell_type": "code",
      "metadata": {
        "id": "DGk8FyP56sGu"
      },
      "source": [
        "test.drop('ID', axis = 1, inplace = True)\n",
        "test.shape"
      ],
      "execution_count": null,
      "outputs": []
    },
    {
      "cell_type": "code",
      "metadata": {
        "id": "A2FYe1MGtTlL"
      },
      "source": [
        "from sklearn.model_selection import train_test_split\n",
        "\n",
        "x_train, x_test, y_train, y_test = train_test_split(train, target, test_size=0.2, random_state=42,)"
      ],
      "execution_count": null,
      "outputs": []
    },
    {
      "cell_type": "code",
      "metadata": {
        "id": "wKWWNl01swea"
      },
      "source": [
        "folds = 10\n",
        "skf = StratifiedKFold(n_splits=folds, shuffle = True, random_state = 1001)"
      ],
      "execution_count": null,
      "outputs": []
    },
    {
      "cell_type": "markdown",
      "metadata": {
        "id": "6RPr7xP06-pe"
      },
      "source": [
        "# **XGBOOST**"
      ]
    },
    {
      "cell_type": "code",
      "metadata": {
        "id": "UwxIpPQ7YsLb"
      },
      "source": [
        "from xgboost import XGBClassifier"
      ],
      "execution_count": null,
      "outputs": []
    },
    {
      "cell_type": "code",
      "metadata": {
        "id": "wlLYRFtRYsH5"
      },
      "source": [
        "xgb = XGBClassifier(scale_pos_weight=5.561, objective = 'binary:logistic', booster = 'gbtree',\n",
        "                    colsample_bytree =  0.3, gamma = 0.9, max_depth = 5, min_child_weight = 2, n_estimators = 2000, subsample = 0.9)"
      ],
      "execution_count": null,
      "outputs": []
    },
    {
      "cell_type": "code",
      "metadata": {
        "id": "Qio7trAPYsDA"
      },
      "source": [
        "xgb.fit(train, target,\n",
        "        # eval_set = [(x_train, y_train),(x_test, y_test)],\n",
        "        eval_metric = 'logloss',\n",
        "        # early_stopping_rounds=10,\n",
        "        )"
      ],
      "execution_count": null,
      "outputs": []
    },
    {
      "cell_type": "markdown",
      "metadata": {
        "id": "hbOqREOb7GMR"
      },
      "source": [
        "# **CATBOOST**"
      ]
    },
    {
      "cell_type": "code",
      "metadata": {
        "id": "JlefyHzE2M9u"
      },
      "source": [
        "!pip install catboost"
      ],
      "execution_count": null,
      "outputs": []
    },
    {
      "cell_type": "code",
      "metadata": {
        "id": "5u7fX3Cb2M23"
      },
      "source": [
        "from catboost import CatBoostClassifier"
      ],
      "execution_count": null,
      "outputs": []
    },
    {
      "cell_type": "code",
      "metadata": {
        "id": "JZcvi-JG2MzG"
      },
      "source": [
        "cat = CatBoostClassifier(scale_pos_weight = 5.561, )"
      ],
      "execution_count": null,
      "outputs": []
    },
    {
      "cell_type": "code",
      "metadata": {
        "id": "MBvmvA-87V_D"
      },
      "source": [
        "cat_params = {\"iterations\" : [500, 600, 1000, 1500, 2000],\n",
        "           \"learning_rate\" : [0.02, 0.03, 0.04],\n",
        "           \"depth\" : [4, 5, 6, 8, 9, 10],\n",
        "           \"l2_leaf_reg\" : np.logspace(-20, -19, 3),\n",
        "           \"leaf_estimation_iterations\" : [10],\n",
        "           }\n",
        "\n",
        "# Searching through catboostclassifier\n",
        "folds = 10\n",
        "param_comb = 10\n",
        "cat_search = RandomizedSearchCV(cat,\n",
        "                                param_distributions = cat_params,\n",
        "                                n_iter = param_comb,\n",
        "                                scoring = \"f1\",\n",
        "                                n_jobs = -1,\n",
        "                                cv = skf.split(x_train,y_train),\n",
        "                                verbose = 3,\n",
        "                                random_state = 1001,\n",
        "                                )\n",
        "\n",
        "# Fitting the search to out data with nan\n",
        "cat_search.fit(x_train, y_train)"
      ],
      "execution_count": null,
      "outputs": []
    },
    {
      "cell_type": "code",
      "metadata": {
        "id": "zc_yP4RIF06D"
      },
      "source": [
        "cat_search.best_params_"
      ],
      "execution_count": null,
      "outputs": []
    },
    {
      "cell_type": "code",
      "metadata": {
        "id": "pYcCyrW9_nd6"
      },
      "source": [
        "cat = CatBoostClassifier(scale_pos_weight = 5.561, depth= 4, learning_rate = 0.02)"
      ],
      "execution_count": null,
      "outputs": []
    },
    {
      "cell_type": "code",
      "metadata": {
        "id": "Cn1gyD2dAMYt"
      },
      "source": [
        "cat.fit(train, target)"
      ],
      "execution_count": null,
      "outputs": []
    },
    {
      "cell_type": "markdown",
      "metadata": {
        "id": "3XBrF21M7L-w"
      },
      "source": [
        "# **EVALUATION**"
      ]
    },
    {
      "cell_type": "code",
      "metadata": {
        "id": "Q_az1uEJ2MuX"
      },
      "source": [
        "from sklearn.metrics import f1_score\n",
        "print(f1_score(y_test, cat_search.predict(x_test)))"
      ],
      "execution_count": null,
      "outputs": []
    },
    {
      "cell_type": "code",
      "metadata": {
        "id": "YyXefqTAzZ6t"
      },
      "source": [
        "print(cat_search.score(x_train, y_train))\n",
        "print(cat_search.score(x_test, y_test))"
      ],
      "execution_count": null,
      "outputs": []
    },
    {
      "cell_type": "code",
      "metadata": {
        "id": "T-tPE6eK5F6o"
      },
      "source": [
        "pred = cat.predict(test)"
      ],
      "execution_count": null,
      "outputs": []
    },
    {
      "cell_type": "code",
      "metadata": {
        "id": "PY_pfC5b5Fzy"
      },
      "source": [
        "submit = pd.DataFrame({'ID' : ID,\n",
        "              'Response' : pred })"
      ],
      "execution_count": null,
      "outputs": []
    },
    {
      "cell_type": "code",
      "metadata": {
        "id": "AKqHCfRY5Fww"
      },
      "source": [
        "submit.to_csv(path + '/dataset/28th_submission.csv', index = False)"
      ],
      "execution_count": null,
      "outputs": []
    },
    {
      "cell_type": "code",
      "metadata": {
        "id": "E5NzOQpZCOlZ"
      },
      "source": [
        ""
      ],
      "execution_count": null,
      "outputs": []
    },
    {
      "cell_type": "code",
      "metadata": {
        "id": "1cUQ8ZXkCOhE"
      },
      "source": [
        ""
      ],
      "execution_count": null,
      "outputs": []
    },
    {
      "cell_type": "code",
      "metadata": {
        "id": "7a3pamrFCOfr"
      },
      "source": [
        ""
      ],
      "execution_count": null,
      "outputs": []
    },
    {
      "cell_type": "code",
      "metadata": {
        "id": "-MXtdFI_CObK"
      },
      "source": [
        ""
      ],
      "execution_count": null,
      "outputs": []
    },
    {
      "cell_type": "code",
      "metadata": {
        "id": "q48FFYq_DGdd"
      },
      "source": [
        ""
      ],
      "execution_count": null,
      "outputs": []
    }
  ]
}